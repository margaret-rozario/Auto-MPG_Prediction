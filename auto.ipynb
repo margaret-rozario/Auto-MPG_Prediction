{
  "nbformat": 4,
  "nbformat_minor": 0,
  "metadata": {
    "colab": {
      "provenance": [],
      "collapsed_sections": []
    },
    "kernelspec": {
      "name": "python3",
      "display_name": "Python 3"
    },
    "language_info": {
      "name": "python"
    }
  },
  "cells": [
    {
      "cell_type": "code",
      "source": [
        "#pip install keras-tuner --upgrade"
      ],
      "metadata": {
        "id": "IJrPNco7MuO5"
      },
      "execution_count": 27,
      "outputs": []
    },
    {
      "cell_type": "code",
      "execution_count": 28,
      "metadata": {
        "id": "QXIGaVeL8kri"
      },
      "outputs": [],
      "source": [
        "# Importing Libraries\n",
        "from numpy import argmax\n",
        "from numpy import unique\n",
        "from sklearn.model_selection import train_test_split\n",
        "from tensorflow.keras.models import Sequential\n",
        "from tensorflow.keras.layers import Dense, Activation\n",
        "from tensorflow.keras.callbacks import EarlyStopping\n",
        "import tensorflow as tf\n",
        "import pandas as pd\n",
        "from pandas import read_csv\n",
        "import numpy as np\n",
        "from sklearn import metrics\n",
        "from sklearn.metrics import accuracy_score"
      ]
    },
    {
      "cell_type": "code",
      "source": [
        "# Placing URL for getting the dataset from the website \n",
        "url_link = 'http://archive.ics.uci.edu/ml/machine-learning-databases/auto-mpg/auto-mpg.data'\n",
        "col_names = ['MPG', 'Cylinders', 'Displacement', 'Horsepower', 'Weight',\n",
        "                'Acceleration', 'Model Year', 'Origin']\n",
        "df = pd.read_csv(url_link, names=col_names, na_values='?', comment='\\t', sep=' ', skipinitialspace=True)\n",
        "print(df)"
      ],
      "metadata": {
        "id": "Sn5Y9Kes-1mB",
        "colab": {
          "base_uri": "https://localhost:8080/"
        },
        "outputId": "b99cbdc2-091b-4a5d-f0f4-968721313ed3"
      },
      "execution_count": 29,
      "outputs": [
        {
          "output_type": "stream",
          "name": "stdout",
          "text": [
            "      MPG  Cylinders  Displacement  Horsepower  Weight  Acceleration  \\\n",
            "0    18.0          8         307.0       130.0  3504.0          12.0   \n",
            "1    15.0          8         350.0       165.0  3693.0          11.5   \n",
            "2    18.0          8         318.0       150.0  3436.0          11.0   \n",
            "3    16.0          8         304.0       150.0  3433.0          12.0   \n",
            "4    17.0          8         302.0       140.0  3449.0          10.5   \n",
            "..    ...        ...           ...         ...     ...           ...   \n",
            "393  27.0          4         140.0        86.0  2790.0          15.6   \n",
            "394  44.0          4          97.0        52.0  2130.0          24.6   \n",
            "395  32.0          4         135.0        84.0  2295.0          11.6   \n",
            "396  28.0          4         120.0        79.0  2625.0          18.6   \n",
            "397  31.0          4         119.0        82.0  2720.0          19.4   \n",
            "\n",
            "     Model Year  Origin  \n",
            "0            70       1  \n",
            "1            70       1  \n",
            "2            70       1  \n",
            "3            70       1  \n",
            "4            70       1  \n",
            "..          ...     ...  \n",
            "393          82       1  \n",
            "394          82       2  \n",
            "395          82       1  \n",
            "396          82       1  \n",
            "397          82       1  \n",
            "\n",
            "[398 rows x 8 columns]\n"
          ]
        }
      ]
    },
    {
      "cell_type": "code",
      "source": [
        "df.isnull().sum()"
      ],
      "metadata": {
        "id": "0rQq7bQW-1pu",
        "colab": {
          "base_uri": "https://localhost:8080/"
        },
        "outputId": "639ff5a1-db4f-4ae0-d7cd-fbf31e766a68"
      },
      "execution_count": 30,
      "outputs": [
        {
          "output_type": "execute_result",
          "data": {
            "text/plain": [
              "MPG             0\n",
              "Cylinders       0\n",
              "Displacement    0\n",
              "Horsepower      6\n",
              "Weight          0\n",
              "Acceleration    0\n",
              "Model Year      0\n",
              "Origin          0\n",
              "dtype: int64"
            ]
          },
          "metadata": {},
          "execution_count": 30
        }
      ]
    },
    {
      "cell_type": "code",
      "source": [
        "# Dropping the last two columns Origin and Car Names by using iloc\n",
        "df.drop(df.iloc[:,7:8], inplace=True, axis=1)\n",
        "print(df)"
      ],
      "metadata": {
        "id": "ywP-WkaW-1s9",
        "colab": {
          "base_uri": "https://localhost:8080/"
        },
        "outputId": "e2d89a7a-a621-44d8-ca38-9e01105fa918"
      },
      "execution_count": 31,
      "outputs": [
        {
          "output_type": "stream",
          "name": "stdout",
          "text": [
            "      MPG  Cylinders  Displacement  Horsepower  Weight  Acceleration  \\\n",
            "0    18.0          8         307.0       130.0  3504.0          12.0   \n",
            "1    15.0          8         350.0       165.0  3693.0          11.5   \n",
            "2    18.0          8         318.0       150.0  3436.0          11.0   \n",
            "3    16.0          8         304.0       150.0  3433.0          12.0   \n",
            "4    17.0          8         302.0       140.0  3449.0          10.5   \n",
            "..    ...        ...           ...         ...     ...           ...   \n",
            "393  27.0          4         140.0        86.0  2790.0          15.6   \n",
            "394  44.0          4          97.0        52.0  2130.0          24.6   \n",
            "395  32.0          4         135.0        84.0  2295.0          11.6   \n",
            "396  28.0          4         120.0        79.0  2625.0          18.6   \n",
            "397  31.0          4         119.0        82.0  2720.0          19.4   \n",
            "\n",
            "     Model Year  \n",
            "0            70  \n",
            "1            70  \n",
            "2            70  \n",
            "3            70  \n",
            "4            70  \n",
            "..          ...  \n",
            "393          82  \n",
            "394          82  \n",
            "395          82  \n",
            "396          82  \n",
            "397          82  \n",
            "\n",
            "[398 rows x 7 columns]\n"
          ]
        }
      ]
    },
    {
      "cell_type": "code",
      "source": [
        "# Attribute horsepower has 6 missing values. For filling these up with the average horsepower for the respective number of cylinders I have used the mean value. \n",
        "mean_value = df['Horsepower'].mean()\n",
        "print('Mean of values in horsepower :')\n",
        "print(mean_value)"
      ],
      "metadata": {
        "id": "mHR5NIPt-1yF",
        "colab": {
          "base_uri": "https://localhost:8080/"
        },
        "outputId": "3893af1e-8a2f-4484-f765-cc86aacf2185"
      },
      "execution_count": 32,
      "outputs": [
        {
          "output_type": "stream",
          "name": "stdout",
          "text": [
            "Mean of values in horsepower :\n",
            "104.46938775510205\n"
          ]
        }
      ]
    },
    {
      "cell_type": "code",
      "source": [
        "# Replacing missing attributes from the horsepower column with the mean value. \n",
        "df['Horsepower'].fillna(value=df['Horsepower'].mean(), inplace=True)\n",
        "print('Updated Dataframe:')\n",
        "print(df)"
      ],
      "metadata": {
        "id": "AyvGznOmCu5J",
        "colab": {
          "base_uri": "https://localhost:8080/"
        },
        "outputId": "e083b6c7-5a0c-4359-dfd0-1f29f271829c"
      },
      "execution_count": 33,
      "outputs": [
        {
          "output_type": "stream",
          "name": "stdout",
          "text": [
            "Updated Dataframe:\n",
            "      MPG  Cylinders  Displacement  Horsepower  Weight  Acceleration  \\\n",
            "0    18.0          8         307.0       130.0  3504.0          12.0   \n",
            "1    15.0          8         350.0       165.0  3693.0          11.5   \n",
            "2    18.0          8         318.0       150.0  3436.0          11.0   \n",
            "3    16.0          8         304.0       150.0  3433.0          12.0   \n",
            "4    17.0          8         302.0       140.0  3449.0          10.5   \n",
            "..    ...        ...           ...         ...     ...           ...   \n",
            "393  27.0          4         140.0        86.0  2790.0          15.6   \n",
            "394  44.0          4          97.0        52.0  2130.0          24.6   \n",
            "395  32.0          4         135.0        84.0  2295.0          11.6   \n",
            "396  28.0          4         120.0        79.0  2625.0          18.6   \n",
            "397  31.0          4         119.0        82.0  2720.0          19.4   \n",
            "\n",
            "     Model Year  \n",
            "0            70  \n",
            "1            70  \n",
            "2            70  \n",
            "3            70  \n",
            "4            70  \n",
            "..          ...  \n",
            "393          82  \n",
            "394          82  \n",
            "395          82  \n",
            "396          82  \n",
            "397          82  \n",
            "\n",
            "[398 rows x 7 columns]\n"
          ]
        }
      ]
    },
    {
      "cell_type": "code",
      "source": [
        "df['Horsepower'].describe"
      ],
      "metadata": {
        "id": "POn3ou82EEb6",
        "colab": {
          "base_uri": "https://localhost:8080/"
        },
        "outputId": "e8a46131-62cd-4172-d786-8a383bc02494"
      },
      "execution_count": 34,
      "outputs": [
        {
          "output_type": "execute_result",
          "data": {
            "text/plain": [
              "<bound method NDFrame.describe of 0      130.0\n",
              "1      165.0\n",
              "2      150.0\n",
              "3      150.0\n",
              "4      140.0\n",
              "       ...  \n",
              "393     86.0\n",
              "394     52.0\n",
              "395     84.0\n",
              "396     79.0\n",
              "397     82.0\n",
              "Name: Horsepower, Length: 398, dtype: float64>"
            ]
          },
          "metadata": {},
          "execution_count": 34
        }
      ]
    },
    {
      "cell_type": "code",
      "source": [
        "df.isnull().sum()"
      ],
      "metadata": {
        "id": "YtwSWkp3Cu-Q",
        "colab": {
          "base_uri": "https://localhost:8080/"
        },
        "outputId": "6cf6a78e-d874-431c-c162-153da235817c"
      },
      "execution_count": 35,
      "outputs": [
        {
          "output_type": "execute_result",
          "data": {
            "text/plain": [
              "MPG             0\n",
              "Cylinders       0\n",
              "Displacement    0\n",
              "Horsepower      0\n",
              "Weight          0\n",
              "Acceleration    0\n",
              "Model Year      0\n",
              "dtype: int64"
            ]
          },
          "metadata": {},
          "execution_count": 35
        }
      ]
    },
    {
      "cell_type": "code",
      "source": [
        "df.info()"
      ],
      "metadata": {
        "id": "kH8fxGKDCvBK",
        "colab": {
          "base_uri": "https://localhost:8080/"
        },
        "outputId": "4898c48e-f952-46c1-e91a-df694c65f678"
      },
      "execution_count": 36,
      "outputs": [
        {
          "output_type": "stream",
          "name": "stdout",
          "text": [
            "<class 'pandas.core.frame.DataFrame'>\n",
            "RangeIndex: 398 entries, 0 to 397\n",
            "Data columns (total 7 columns):\n",
            " #   Column        Non-Null Count  Dtype  \n",
            "---  ------        --------------  -----  \n",
            " 0   MPG           398 non-null    float64\n",
            " 1   Cylinders     398 non-null    int64  \n",
            " 2   Displacement  398 non-null    float64\n",
            " 3   Horsepower    398 non-null    float64\n",
            " 4   Weight        398 non-null    float64\n",
            " 5   Acceleration  398 non-null    float64\n",
            " 6   Model Year    398 non-null    int64  \n",
            "dtypes: float64(5), int64(2)\n",
            "memory usage: 21.9 KB\n"
          ]
        }
      ]
    },
    {
      "cell_type": "code",
      "source": [
        "df.dtypes"
      ],
      "metadata": {
        "id": "Lfk_PaS7CvD1",
        "colab": {
          "base_uri": "https://localhost:8080/"
        },
        "outputId": "d7654776-80b3-4c2a-9ccd-c62f2ae23c21"
      },
      "execution_count": 37,
      "outputs": [
        {
          "output_type": "execute_result",
          "data": {
            "text/plain": [
              "MPG             float64\n",
              "Cylinders         int64\n",
              "Displacement    float64\n",
              "Horsepower      float64\n",
              "Weight          float64\n",
              "Acceleration    float64\n",
              "Model Year        int64\n",
              "dtype: object"
            ]
          },
          "metadata": {},
          "execution_count": 37
        }
      ]
    },
    {
      "cell_type": "code",
      "source": [
        "#The year attribute has two digits. Adding 1900 so that the year has four digits. For example, 70 to 1970. \n",
        "df['Model Year'] = pd.to_datetime(df['Model Year'].astype(str).str.zfill(2), format='%y').dt.year\n",
        "print(df)"
      ],
      "metadata": {
        "id": "-a6d4giFDAaR",
        "colab": {
          "base_uri": "https://localhost:8080/"
        },
        "outputId": "d524ea06-7137-4a58-dec1-4af82ee29918"
      },
      "execution_count": 38,
      "outputs": [
        {
          "output_type": "stream",
          "name": "stdout",
          "text": [
            "      MPG  Cylinders  Displacement  Horsepower  Weight  Acceleration  \\\n",
            "0    18.0          8         307.0       130.0  3504.0          12.0   \n",
            "1    15.0          8         350.0       165.0  3693.0          11.5   \n",
            "2    18.0          8         318.0       150.0  3436.0          11.0   \n",
            "3    16.0          8         304.0       150.0  3433.0          12.0   \n",
            "4    17.0          8         302.0       140.0  3449.0          10.5   \n",
            "..    ...        ...           ...         ...     ...           ...   \n",
            "393  27.0          4         140.0        86.0  2790.0          15.6   \n",
            "394  44.0          4          97.0        52.0  2130.0          24.6   \n",
            "395  32.0          4         135.0        84.0  2295.0          11.6   \n",
            "396  28.0          4         120.0        79.0  2625.0          18.6   \n",
            "397  31.0          4         119.0        82.0  2720.0          19.4   \n",
            "\n",
            "     Model Year  \n",
            "0          1970  \n",
            "1          1970  \n",
            "2          1970  \n",
            "3          1970  \n",
            "4          1970  \n",
            "..          ...  \n",
            "393        1982  \n",
            "394        1982  \n",
            "395        1982  \n",
            "396        1982  \n",
            "397        1982  \n",
            "\n",
            "[398 rows x 7 columns]\n"
          ]
        }
      ]
    },
    {
      "cell_type": "code",
      "source": [
        "df['Model Year'].describe"
      ],
      "metadata": {
        "id": "2G-fjcFjQtvL",
        "colab": {
          "base_uri": "https://localhost:8080/"
        },
        "outputId": "1f576bcf-aa25-4c0a-fb4e-1194bf15b4e4"
      },
      "execution_count": 39,
      "outputs": [
        {
          "output_type": "execute_result",
          "data": {
            "text/plain": [
              "<bound method NDFrame.describe of 0      1970\n",
              "1      1970\n",
              "2      1970\n",
              "3      1970\n",
              "4      1970\n",
              "       ... \n",
              "393    1982\n",
              "394    1982\n",
              "395    1982\n",
              "396    1982\n",
              "397    1982\n",
              "Name: Model Year, Length: 398, dtype: int64>"
            ]
          },
          "metadata": {},
          "execution_count": 39
        }
      ]
    },
    {
      "cell_type": "code",
      "source": [
        "# Splitting Dataset into x and y. Pandas to Numpy:\n",
        "x = df[['Cylinders', 'Displacement', 'Horsepower', 'Weight',\n",
        "       'Acceleration', 'Model Year']].values\n",
        "y = df['MPG'].values \n",
        "\n",
        "n_features = x.shape[1]\n",
        "n_class = len(unique(y))"
      ],
      "metadata": {
        "id": "cujXAz0LDAfk"
      },
      "execution_count": 40,
      "outputs": []
    },
    {
      "cell_type": "code",
      "source": [
        "# Split into validation and training sets\n",
        "x_train, x_test, y_train, y_test = train_test_split(x, y, test_size=0.2, random_state=1)\n",
        "x_train, x_val, y_train, y_val = train_test_split(x_train, y_train, test_size=0.2, random_state=1)"
      ],
      "metadata": {
        "id": "rxYWljS5DAiT"
      },
      "execution_count": 41,
      "outputs": []
    },
    {
      "cell_type": "code",
      "source": [
        "# Deep Nural Network Model (DNN)\n",
        "model = Sequential()\n",
        "model.add(Dense(20, input_dim=n_features, activation='tanh', kernel_initializer='normal'))\n",
        "model.add(Dense(10, activation='relu', kernel_initializer='he_normal'))\n",
        "model.add(Dense(n_class, activation='softmax'))\n",
        "model.summary()"
      ],
      "metadata": {
        "id": "rTK5h5YCDAlC",
        "colab": {
          "base_uri": "https://localhost:8080/"
        },
        "outputId": "ca9451e8-636e-4252-bafa-83d631deee44"
      },
      "execution_count": 42,
      "outputs": [
        {
          "output_type": "stream",
          "name": "stdout",
          "text": [
            "Model: \"sequential_1\"\n",
            "_________________________________________________________________\n",
            " Layer (type)                Output Shape              Param #   \n",
            "=================================================================\n",
            " dense_3 (Dense)             (None, 20)                140       \n",
            "                                                                 \n",
            " dense_4 (Dense)             (None, 10)                210       \n",
            "                                                                 \n",
            " dense_5 (Dense)             (None, 129)               1419      \n",
            "                                                                 \n",
            "=================================================================\n",
            "Total params: 1,769\n",
            "Trainable params: 1,769\n",
            "Non-trainable params: 0\n",
            "_________________________________________________________________\n"
          ]
        }
      ]
    },
    {
      "cell_type": "code",
      "source": [
        "model.compile(loss='mean_squared_error', optimizer='adam')"
      ],
      "metadata": {
        "id": "BE8GjcAJDlgW"
      },
      "execution_count": 43,
      "outputs": []
    },
    {
      "cell_type": "code",
      "source": [
        "# This callback will stop the training when there is no improvement in the loss for consecutive epochs.\n",
        "monitor = tf.keras.callbacks.EarlyStopping(\n",
        "    monitor=\"val_loss\",\n",
        "    min_delta=0,\n",
        "    patience=0,\n",
        "    verbose=0,\n",
        "    mode=\"auto\",\n",
        "    baseline=None,\n",
        "    restore_best_weights=False,\n",
        ")\n",
        "history = model.fit(x_train, y_train, epochs=100, batch_size=30, validation_data=(x_val, y_val))\n"
      ],
      "metadata": {
        "id": "CG_xXjBnDljM",
        "colab": {
          "base_uri": "https://localhost:8080/"
        },
        "outputId": "cf9d3c3c-13b6-42c9-c549-7043ee1c3ef0"
      },
      "execution_count": 44,
      "outputs": [
        {
          "output_type": "stream",
          "name": "stdout",
          "text": [
            "Epoch 1/100\n",
            "9/9 [==============================] - 1s 18ms/step - loss: 613.9285 - val_loss: 633.6910\n",
            "Epoch 2/100\n",
            "9/9 [==============================] - 0s 7ms/step - loss: 613.9285 - val_loss: 633.6910\n",
            "Epoch 3/100\n",
            "9/9 [==============================] - 0s 6ms/step - loss: 613.9285 - val_loss: 633.6910\n",
            "Epoch 4/100\n",
            "9/9 [==============================] - 0s 5ms/step - loss: 613.9285 - val_loss: 633.6910\n",
            "Epoch 5/100\n",
            "9/9 [==============================] - 0s 5ms/step - loss: 613.9285 - val_loss: 633.6910\n",
            "Epoch 6/100\n",
            "9/9 [==============================] - 0s 6ms/step - loss: 613.9285 - val_loss: 633.6910\n",
            "Epoch 7/100\n",
            "9/9 [==============================] - 0s 5ms/step - loss: 613.9285 - val_loss: 633.6910\n",
            "Epoch 8/100\n",
            "9/9 [==============================] - 0s 8ms/step - loss: 613.9285 - val_loss: 633.6910\n",
            "Epoch 9/100\n",
            "9/9 [==============================] - 0s 9ms/step - loss: 613.9285 - val_loss: 633.6910\n",
            "Epoch 10/100\n",
            "9/9 [==============================] - 0s 6ms/step - loss: 613.9285 - val_loss: 633.6910\n",
            "Epoch 11/100\n",
            "9/9 [==============================] - 0s 8ms/step - loss: 613.9285 - val_loss: 633.6910\n",
            "Epoch 12/100\n",
            "9/9 [==============================] - 0s 5ms/step - loss: 613.9285 - val_loss: 633.6910\n",
            "Epoch 13/100\n",
            "9/9 [==============================] - 0s 8ms/step - loss: 613.9285 - val_loss: 633.6910\n",
            "Epoch 14/100\n",
            "9/9 [==============================] - 0s 7ms/step - loss: 613.9285 - val_loss: 633.6910\n",
            "Epoch 15/100\n",
            "9/9 [==============================] - 0s 6ms/step - loss: 613.9285 - val_loss: 633.6910\n",
            "Epoch 16/100\n",
            "9/9 [==============================] - 0s 6ms/step - loss: 613.9285 - val_loss: 633.6910\n",
            "Epoch 17/100\n",
            "9/9 [==============================] - 0s 6ms/step - loss: 613.9284 - val_loss: 633.6910\n",
            "Epoch 18/100\n",
            "9/9 [==============================] - 0s 5ms/step - loss: 613.9285 - val_loss: 633.6910\n",
            "Epoch 19/100\n",
            "9/9 [==============================] - 0s 5ms/step - loss: 613.9285 - val_loss: 633.6910\n",
            "Epoch 20/100\n",
            "9/9 [==============================] - 0s 6ms/step - loss: 613.9285 - val_loss: 633.6910\n",
            "Epoch 21/100\n",
            "9/9 [==============================] - 0s 8ms/step - loss: 613.9285 - val_loss: 633.6910\n",
            "Epoch 22/100\n",
            "9/9 [==============================] - 0s 6ms/step - loss: 613.9285 - val_loss: 633.6910\n",
            "Epoch 23/100\n",
            "9/9 [==============================] - 0s 5ms/step - loss: 613.9285 - val_loss: 633.6910\n",
            "Epoch 24/100\n",
            "9/9 [==============================] - 0s 7ms/step - loss: 613.9285 - val_loss: 633.6910\n",
            "Epoch 25/100\n",
            "9/9 [==============================] - 0s 7ms/step - loss: 613.9285 - val_loss: 633.6910\n",
            "Epoch 26/100\n",
            "9/9 [==============================] - 0s 6ms/step - loss: 613.9284 - val_loss: 633.6910\n",
            "Epoch 27/100\n",
            "9/9 [==============================] - 0s 5ms/step - loss: 613.9285 - val_loss: 633.6910\n",
            "Epoch 28/100\n",
            "9/9 [==============================] - 0s 5ms/step - loss: 613.9285 - val_loss: 633.6910\n",
            "Epoch 29/100\n",
            "9/9 [==============================] - 0s 5ms/step - loss: 613.9285 - val_loss: 633.6910\n",
            "Epoch 30/100\n",
            "9/9 [==============================] - 0s 7ms/step - loss: 613.9284 - val_loss: 633.6910\n",
            "Epoch 31/100\n",
            "9/9 [==============================] - 0s 6ms/step - loss: 613.9285 - val_loss: 633.6910\n",
            "Epoch 32/100\n",
            "9/9 [==============================] - 0s 5ms/step - loss: 613.9285 - val_loss: 633.6910\n",
            "Epoch 33/100\n",
            "9/9 [==============================] - 0s 6ms/step - loss: 613.9285 - val_loss: 633.6910\n",
            "Epoch 34/100\n",
            "9/9 [==============================] - 0s 6ms/step - loss: 613.9285 - val_loss: 633.6910\n",
            "Epoch 35/100\n",
            "9/9 [==============================] - 0s 5ms/step - loss: 613.9285 - val_loss: 633.6910\n",
            "Epoch 36/100\n",
            "9/9 [==============================] - 0s 6ms/step - loss: 613.9285 - val_loss: 633.6910\n",
            "Epoch 37/100\n",
            "9/9 [==============================] - 0s 5ms/step - loss: 613.9285 - val_loss: 633.6910\n",
            "Epoch 38/100\n",
            "9/9 [==============================] - 0s 7ms/step - loss: 613.9285 - val_loss: 633.6910\n",
            "Epoch 39/100\n",
            "9/9 [==============================] - 0s 5ms/step - loss: 613.9285 - val_loss: 633.6910\n",
            "Epoch 40/100\n",
            "9/9 [==============================] - 0s 6ms/step - loss: 613.9285 - val_loss: 633.6910\n",
            "Epoch 41/100\n",
            "9/9 [==============================] - 0s 6ms/step - loss: 613.9285 - val_loss: 633.6910\n",
            "Epoch 42/100\n",
            "9/9 [==============================] - 0s 6ms/step - loss: 613.9285 - val_loss: 633.6910\n",
            "Epoch 43/100\n",
            "9/9 [==============================] - 0s 5ms/step - loss: 613.9285 - val_loss: 633.6910\n",
            "Epoch 44/100\n",
            "9/9 [==============================] - 0s 5ms/step - loss: 613.9285 - val_loss: 633.6910\n",
            "Epoch 45/100\n",
            "9/9 [==============================] - 0s 5ms/step - loss: 613.9285 - val_loss: 633.6910\n",
            "Epoch 46/100\n",
            "9/9 [==============================] - 0s 6ms/step - loss: 613.9285 - val_loss: 633.6910\n",
            "Epoch 47/100\n",
            "9/9 [==============================] - 0s 8ms/step - loss: 613.9285 - val_loss: 633.6910\n",
            "Epoch 48/100\n",
            "9/9 [==============================] - 0s 5ms/step - loss: 613.9285 - val_loss: 633.6910\n",
            "Epoch 49/100\n",
            "9/9 [==============================] - 0s 6ms/step - loss: 613.9285 - val_loss: 633.6910\n",
            "Epoch 50/100\n",
            "9/9 [==============================] - 0s 6ms/step - loss: 613.9285 - val_loss: 633.6910\n",
            "Epoch 51/100\n",
            "9/9 [==============================] - 0s 6ms/step - loss: 613.9285 - val_loss: 633.6910\n",
            "Epoch 52/100\n",
            "9/9 [==============================] - 0s 6ms/step - loss: 613.9285 - val_loss: 633.6910\n",
            "Epoch 53/100\n",
            "9/9 [==============================] - 0s 6ms/step - loss: 613.9285 - val_loss: 633.6910\n",
            "Epoch 54/100\n",
            "9/9 [==============================] - 0s 6ms/step - loss: 613.9285 - val_loss: 633.6910\n",
            "Epoch 55/100\n",
            "9/9 [==============================] - 0s 8ms/step - loss: 613.9285 - val_loss: 633.6910\n",
            "Epoch 56/100\n",
            "9/9 [==============================] - 0s 7ms/step - loss: 613.9285 - val_loss: 633.6910\n",
            "Epoch 57/100\n",
            "9/9 [==============================] - 0s 6ms/step - loss: 613.9285 - val_loss: 633.6910\n",
            "Epoch 58/100\n",
            "9/9 [==============================] - 0s 10ms/step - loss: 613.9285 - val_loss: 633.6910\n",
            "Epoch 59/100\n",
            "9/9 [==============================] - 0s 30ms/step - loss: 613.9285 - val_loss: 633.6910\n",
            "Epoch 60/100\n",
            "9/9 [==============================] - 0s 13ms/step - loss: 613.9285 - val_loss: 633.6910\n",
            "Epoch 61/100\n",
            "9/9 [==============================] - 0s 13ms/step - loss: 613.9285 - val_loss: 633.6910\n",
            "Epoch 62/100\n",
            "9/9 [==============================] - 0s 6ms/step - loss: 613.9285 - val_loss: 633.6910\n",
            "Epoch 63/100\n",
            "9/9 [==============================] - 0s 5ms/step - loss: 613.9285 - val_loss: 633.6910\n",
            "Epoch 64/100\n",
            "9/9 [==============================] - 0s 5ms/step - loss: 613.9285 - val_loss: 633.6910\n",
            "Epoch 65/100\n",
            "9/9 [==============================] - 0s 5ms/step - loss: 613.9285 - val_loss: 633.6910\n",
            "Epoch 66/100\n",
            "9/9 [==============================] - 0s 5ms/step - loss: 613.9285 - val_loss: 633.6910\n",
            "Epoch 67/100\n",
            "9/9 [==============================] - 0s 6ms/step - loss: 613.9285 - val_loss: 633.6910\n",
            "Epoch 68/100\n",
            "9/9 [==============================] - 0s 7ms/step - loss: 613.9285 - val_loss: 633.6910\n",
            "Epoch 69/100\n",
            "9/9 [==============================] - 0s 6ms/step - loss: 613.9285 - val_loss: 633.6910\n",
            "Epoch 70/100\n",
            "9/9 [==============================] - 0s 16ms/step - loss: 613.9285 - val_loss: 633.6910\n",
            "Epoch 71/100\n",
            "9/9 [==============================] - 0s 25ms/step - loss: 613.9285 - val_loss: 633.6910\n",
            "Epoch 72/100\n",
            "9/9 [==============================] - 0s 14ms/step - loss: 613.9285 - val_loss: 633.6910\n",
            "Epoch 73/100\n",
            "9/9 [==============================] - 0s 9ms/step - loss: 613.9285 - val_loss: 633.6910\n",
            "Epoch 74/100\n",
            "9/9 [==============================] - 0s 5ms/step - loss: 613.9285 - val_loss: 633.6910\n",
            "Epoch 75/100\n",
            "9/9 [==============================] - 0s 7ms/step - loss: 613.9285 - val_loss: 633.6910\n",
            "Epoch 76/100\n",
            "9/9 [==============================] - 0s 5ms/step - loss: 613.9285 - val_loss: 633.6910\n",
            "Epoch 77/100\n",
            "9/9 [==============================] - 0s 5ms/step - loss: 613.9285 - val_loss: 633.6910\n",
            "Epoch 78/100\n",
            "9/9 [==============================] - 0s 5ms/step - loss: 613.9285 - val_loss: 633.6910\n",
            "Epoch 79/100\n",
            "9/9 [==============================] - 0s 6ms/step - loss: 613.9285 - val_loss: 633.6910\n",
            "Epoch 80/100\n",
            "9/9 [==============================] - 0s 6ms/step - loss: 613.9285 - val_loss: 633.6910\n",
            "Epoch 81/100\n",
            "9/9 [==============================] - 0s 6ms/step - loss: 613.9284 - val_loss: 633.6910\n",
            "Epoch 82/100\n",
            "9/9 [==============================] - 0s 11ms/step - loss: 613.9285 - val_loss: 633.6910\n",
            "Epoch 83/100\n",
            "9/9 [==============================] - 0s 19ms/step - loss: 613.9284 - val_loss: 633.6910\n",
            "Epoch 84/100\n",
            "9/9 [==============================] - 0s 18ms/step - loss: 613.9285 - val_loss: 633.6910\n",
            "Epoch 85/100\n",
            "9/9 [==============================] - 0s 8ms/step - loss: 613.9285 - val_loss: 633.6910\n",
            "Epoch 86/100\n",
            "9/9 [==============================] - 0s 5ms/step - loss: 613.9285 - val_loss: 633.6910\n",
            "Epoch 87/100\n",
            "9/9 [==============================] - 0s 5ms/step - loss: 613.9285 - val_loss: 633.6910\n",
            "Epoch 88/100\n",
            "9/9 [==============================] - 0s 6ms/step - loss: 613.9285 - val_loss: 633.6910\n",
            "Epoch 89/100\n",
            "9/9 [==============================] - 0s 7ms/step - loss: 613.9284 - val_loss: 633.6910\n",
            "Epoch 90/100\n",
            "9/9 [==============================] - 0s 8ms/step - loss: 613.9285 - val_loss: 633.6910\n",
            "Epoch 91/100\n",
            "9/9 [==============================] - 0s 5ms/step - loss: 613.9285 - val_loss: 633.6910\n",
            "Epoch 92/100\n",
            "9/9 [==============================] - 0s 7ms/step - loss: 613.9284 - val_loss: 633.6910\n",
            "Epoch 93/100\n",
            "9/9 [==============================] - 0s 5ms/step - loss: 613.9285 - val_loss: 633.6910\n",
            "Epoch 94/100\n",
            "9/9 [==============================] - 0s 6ms/step - loss: 613.9285 - val_loss: 633.6910\n",
            "Epoch 95/100\n",
            "9/9 [==============================] - 0s 5ms/step - loss: 613.9285 - val_loss: 633.6910\n",
            "Epoch 96/100\n",
            "9/9 [==============================] - 0s 5ms/step - loss: 613.9285 - val_loss: 633.6910\n",
            "Epoch 97/100\n",
            "9/9 [==============================] - 0s 5ms/step - loss: 613.9284 - val_loss: 633.6910\n",
            "Epoch 98/100\n",
            "9/9 [==============================] - 0s 6ms/step - loss: 613.9285 - val_loss: 633.6910\n",
            "Epoch 99/100\n",
            "9/9 [==============================] - 0s 7ms/step - loss: 613.9284 - val_loss: 633.6910\n",
            "Epoch 100/100\n",
            "9/9 [==============================] - 0s 6ms/step - loss: 613.9285 - val_loss: 633.6910\n"
          ]
        }
      ]
    },
    {
      "cell_type": "code",
      "source": [
        "predict = model.predict(x_test)\n",
        "predict = argmax(predict, axis=-1).astype('int')\n",
        "score = np.sqrt(metrics.mean_squared_error(predict,y_test))\n",
        "print(f\"After load score: {score}\")"
      ],
      "metadata": {
        "id": "DDogOFLzDll-",
        "colab": {
          "base_uri": "https://localhost:8080/"
        },
        "outputId": "d9d10c13-4373-434f-f4d3-3dc5de71af4f"
      },
      "execution_count": 45,
      "outputs": [
        {
          "output_type": "stream",
          "name": "stdout",
          "text": [
            "3/3 [==============================] - 0s 4ms/step\n",
            "After load score: 81.10931281301795\n"
          ]
        }
      ]
    },
    {
      "cell_type": "code",
      "source": [
        "pd.DataFrame(list(zip(y_test,predict)), columns = ['Actual Values', 'Predicted Values'])"
      ],
      "metadata": {
        "id": "3-juWFUkXxvT",
        "colab": {
          "base_uri": "https://localhost:8080/",
          "height": 456
        },
        "outputId": "380c9df1-e896-4f3d-f6b6-d4bfbae36f61"
      },
      "execution_count": 46,
      "outputs": [
        {
          "output_type": "execute_result",
          "data": {
            "text/plain": [
              "    Actual Values  Predicted Values\n",
              "0            18.0               104\n",
              "1            28.1               104\n",
              "2            19.4               104\n",
              "3            20.3               104\n",
              "4            20.2               104\n",
              "..            ...               ...\n",
              "75           28.0               104\n",
              "76           36.4               104\n",
              "77           15.5               104\n",
              "78           14.0               104\n",
              "79           26.0               104\n",
              "\n",
              "[80 rows x 2 columns]"
            ],
            "text/html": [
              "\n",
              "  <div id=\"df-79418321-36cf-4fb3-8468-2e2bc08dff0c\">\n",
              "    <div class=\"colab-df-container\">\n",
              "      <div>\n",
              "<style scoped>\n",
              "    .dataframe tbody tr th:only-of-type {\n",
              "        vertical-align: middle;\n",
              "    }\n",
              "\n",
              "    .dataframe tbody tr th {\n",
              "        vertical-align: top;\n",
              "    }\n",
              "\n",
              "    .dataframe thead th {\n",
              "        text-align: right;\n",
              "    }\n",
              "</style>\n",
              "<table border=\"1\" class=\"dataframe\">\n",
              "  <thead>\n",
              "    <tr style=\"text-align: right;\">\n",
              "      <th></th>\n",
              "      <th>Actual Values</th>\n",
              "      <th>Predicted Values</th>\n",
              "    </tr>\n",
              "  </thead>\n",
              "  <tbody>\n",
              "    <tr>\n",
              "      <th>0</th>\n",
              "      <td>18.0</td>\n",
              "      <td>104</td>\n",
              "    </tr>\n",
              "    <tr>\n",
              "      <th>1</th>\n",
              "      <td>28.1</td>\n",
              "      <td>104</td>\n",
              "    </tr>\n",
              "    <tr>\n",
              "      <th>2</th>\n",
              "      <td>19.4</td>\n",
              "      <td>104</td>\n",
              "    </tr>\n",
              "    <tr>\n",
              "      <th>3</th>\n",
              "      <td>20.3</td>\n",
              "      <td>104</td>\n",
              "    </tr>\n",
              "    <tr>\n",
              "      <th>4</th>\n",
              "      <td>20.2</td>\n",
              "      <td>104</td>\n",
              "    </tr>\n",
              "    <tr>\n",
              "      <th>...</th>\n",
              "      <td>...</td>\n",
              "      <td>...</td>\n",
              "    </tr>\n",
              "    <tr>\n",
              "      <th>75</th>\n",
              "      <td>28.0</td>\n",
              "      <td>104</td>\n",
              "    </tr>\n",
              "    <tr>\n",
              "      <th>76</th>\n",
              "      <td>36.4</td>\n",
              "      <td>104</td>\n",
              "    </tr>\n",
              "    <tr>\n",
              "      <th>77</th>\n",
              "      <td>15.5</td>\n",
              "      <td>104</td>\n",
              "    </tr>\n",
              "    <tr>\n",
              "      <th>78</th>\n",
              "      <td>14.0</td>\n",
              "      <td>104</td>\n",
              "    </tr>\n",
              "    <tr>\n",
              "      <th>79</th>\n",
              "      <td>26.0</td>\n",
              "      <td>104</td>\n",
              "    </tr>\n",
              "  </tbody>\n",
              "</table>\n",
              "<p>80 rows × 2 columns</p>\n",
              "</div>\n",
              "      <button class=\"colab-df-convert\" onclick=\"convertToInteractive('df-79418321-36cf-4fb3-8468-2e2bc08dff0c')\"\n",
              "              title=\"Convert this dataframe to an interactive table.\"\n",
              "              style=\"display:none;\">\n",
              "        \n",
              "  <svg xmlns=\"http://www.w3.org/2000/svg\" height=\"24px\"viewBox=\"0 0 24 24\"\n",
              "       width=\"24px\">\n",
              "    <path d=\"M0 0h24v24H0V0z\" fill=\"none\"/>\n",
              "    <path d=\"M18.56 5.44l.94 2.06.94-2.06 2.06-.94-2.06-.94-.94-2.06-.94 2.06-2.06.94zm-11 1L8.5 8.5l.94-2.06 2.06-.94-2.06-.94L8.5 2.5l-.94 2.06-2.06.94zm10 10l.94 2.06.94-2.06 2.06-.94-2.06-.94-.94-2.06-.94 2.06-2.06.94z\"/><path d=\"M17.41 7.96l-1.37-1.37c-.4-.4-.92-.59-1.43-.59-.52 0-1.04.2-1.43.59L10.3 9.45l-7.72 7.72c-.78.78-.78 2.05 0 2.83L4 21.41c.39.39.9.59 1.41.59.51 0 1.02-.2 1.41-.59l7.78-7.78 2.81-2.81c.8-.78.8-2.07 0-2.86zM5.41 20L4 18.59l7.72-7.72 1.47 1.35L5.41 20z\"/>\n",
              "  </svg>\n",
              "      </button>\n",
              "      \n",
              "  <style>\n",
              "    .colab-df-container {\n",
              "      display:flex;\n",
              "      flex-wrap:wrap;\n",
              "      gap: 12px;\n",
              "    }\n",
              "\n",
              "    .colab-df-convert {\n",
              "      background-color: #E8F0FE;\n",
              "      border: none;\n",
              "      border-radius: 50%;\n",
              "      cursor: pointer;\n",
              "      display: none;\n",
              "      fill: #1967D2;\n",
              "      height: 32px;\n",
              "      padding: 0 0 0 0;\n",
              "      width: 32px;\n",
              "    }\n",
              "\n",
              "    .colab-df-convert:hover {\n",
              "      background-color: #E2EBFA;\n",
              "      box-shadow: 0px 1px 2px rgba(60, 64, 67, 0.3), 0px 1px 3px 1px rgba(60, 64, 67, 0.15);\n",
              "      fill: #174EA6;\n",
              "    }\n",
              "\n",
              "    [theme=dark] .colab-df-convert {\n",
              "      background-color: #3B4455;\n",
              "      fill: #D2E3FC;\n",
              "    }\n",
              "\n",
              "    [theme=dark] .colab-df-convert:hover {\n",
              "      background-color: #434B5C;\n",
              "      box-shadow: 0px 1px 3px 1px rgba(0, 0, 0, 0.15);\n",
              "      filter: drop-shadow(0px 1px 2px rgba(0, 0, 0, 0.3));\n",
              "      fill: #FFFFFF;\n",
              "    }\n",
              "  </style>\n",
              "\n",
              "      <script>\n",
              "        const buttonEl =\n",
              "          document.querySelector('#df-79418321-36cf-4fb3-8468-2e2bc08dff0c button.colab-df-convert');\n",
              "        buttonEl.style.display =\n",
              "          google.colab.kernel.accessAllowed ? 'block' : 'none';\n",
              "\n",
              "        async function convertToInteractive(key) {\n",
              "          const element = document.querySelector('#df-79418321-36cf-4fb3-8468-2e2bc08dff0c');\n",
              "          const dataTable =\n",
              "            await google.colab.kernel.invokeFunction('convertToInteractive',\n",
              "                                                     [key], {});\n",
              "          if (!dataTable) return;\n",
              "\n",
              "          const docLinkHtml = 'Like what you see? Visit the ' +\n",
              "            '<a target=\"_blank\" href=https://colab.research.google.com/notebooks/data_table.ipynb>data table notebook</a>'\n",
              "            + ' to learn more about interactive tables.';\n",
              "          element.innerHTML = '';\n",
              "          dataTable['output_type'] = 'display_data';\n",
              "          await google.colab.output.renderOutput(dataTable, element);\n",
              "          const docLink = document.createElement('div');\n",
              "          docLink.innerHTML = docLinkHtml;\n",
              "          element.appendChild(docLink);\n",
              "        }\n",
              "      </script>\n",
              "    </div>\n",
              "  </div>\n",
              "  "
            ]
          },
          "metadata": {},
          "execution_count": 46
        }
      ]
    },
    {
      "cell_type": "code",
      "source": [
        "x_test"
      ],
      "metadata": {
        "colab": {
          "base_uri": "https://localhost:8080/"
        },
        "id": "VyqOkDf6vxjc",
        "outputId": "0c973dc4-cbd4-4286-bf2a-5c8daee44c4e"
      },
      "execution_count": 47,
      "outputs": [
        {
          "output_type": "execute_result",
          "data": {
            "text/plain": [
              "array([[6.000e+00, 1.710e+02, 9.700e+01, 2.984e+03, 1.450e+01, 1.975e+03],\n",
              "       [4.000e+00, 1.410e+02, 8.000e+01, 3.230e+03, 2.040e+01, 1.981e+03],\n",
              "       [8.000e+00, 3.180e+02, 1.400e+02, 3.735e+03, 1.320e+01, 1.978e+03],\n",
              "       [5.000e+00, 1.310e+02, 1.030e+02, 2.830e+03, 1.590e+01, 1.978e+03],\n",
              "       [6.000e+00, 2.320e+02, 9.000e+01, 3.265e+03, 1.820e+01, 1.979e+03],\n",
              "       [8.000e+00, 3.510e+02, 1.490e+02, 4.335e+03, 1.450e+01, 1.977e+03],\n",
              "       [4.000e+00, 6.800e+01, 4.900e+01, 1.867e+03, 1.950e+01, 1.973e+03],\n",
              "       [4.000e+00, 8.900e+01, 6.200e+01, 2.050e+03, 1.730e+01, 1.981e+03],\n",
              "       [8.000e+00, 3.040e+02, 1.200e+02, 3.962e+03, 1.390e+01, 1.976e+03],\n",
              "       [8.000e+00, 3.500e+02, 1.800e+02, 4.499e+03, 1.250e+01, 1.973e+03],\n",
              "       [4.000e+00, 1.350e+02, 8.400e+01, 2.525e+03, 1.600e+01, 1.982e+03],\n",
              "       [8.000e+00, 2.600e+02, 1.100e+02, 4.060e+03, 1.900e+01, 1.977e+03],\n",
              "       [6.000e+00, 2.580e+02, 1.200e+02, 3.410e+03, 1.510e+01, 1.978e+03],\n",
              "       [4.000e+00, 1.210e+02, 1.100e+02, 2.600e+03, 1.280e+01, 1.977e+03],\n",
              "       [4.000e+00, 7.900e+01, 5.800e+01, 1.755e+03, 1.690e+01, 1.981e+03],\n",
              "       [4.000e+00, 1.210e+02, 9.800e+01, 2.945e+03, 1.450e+01, 1.975e+03],\n",
              "       [8.000e+00, 4.290e+02, 1.980e+02, 4.341e+03, 1.000e+01, 1.970e+03],\n",
              "       [6.000e+00, 1.980e+02, 9.500e+01, 3.102e+03, 1.650e+01, 1.974e+03],\n",
              "       [8.000e+00, 4.290e+02, 1.980e+02, 4.952e+03, 1.150e+01, 1.973e+03],\n",
              "       [4.000e+00, 8.500e+01, 6.500e+01, 2.020e+03, 1.920e+01, 1.979e+03],\n",
              "       [4.000e+00, 1.190e+02, 9.700e+01, 2.545e+03, 1.700e+01, 1.975e+03],\n",
              "       [4.000e+00, 9.700e+01, 7.800e+01, 1.940e+03, 1.450e+01, 1.977e+03],\n",
              "       [6.000e+00, 2.000e+02, 8.500e+01, 2.587e+03, 1.600e+01, 1.970e+03],\n",
              "       [4.000e+00, 9.700e+01, 8.800e+01, 2.130e+03, 1.450e+01, 1.971e+03],\n",
              "       [4.000e+00, 1.510e+02, 9.000e+01, 3.003e+03, 2.010e+01, 1.980e+03],\n",
              "       [4.000e+00, 9.700e+01, 4.600e+01, 1.950e+03, 2.100e+01, 1.973e+03],\n",
              "       [4.000e+00, 1.080e+02, 7.500e+01, 2.350e+03, 1.680e+01, 1.981e+03],\n",
              "       [4.000e+00, 7.800e+01, 5.200e+01, 1.985e+03, 1.940e+01, 1.978e+03],\n",
              "       [8.000e+00, 3.020e+02, 1.400e+02, 3.449e+03, 1.050e+01, 1.970e+03],\n",
              "       [4.000e+00, 1.560e+02, 9.200e+01, 2.585e+03, 1.450e+01, 1.982e+03],\n",
              "       [6.000e+00, 1.810e+02, 1.100e+02, 2.945e+03, 1.640e+01, 1.982e+03],\n",
              "       [8.000e+00, 4.540e+02, 2.200e+02, 4.354e+03, 9.000e+00, 1.970e+03],\n",
              "       [4.000e+00, 1.200e+02, 8.700e+01, 2.979e+03, 1.950e+01, 1.972e+03],\n",
              "       [4.000e+00, 1.340e+02, 9.500e+01, 2.560e+03, 1.420e+01, 1.978e+03],\n",
              "       [4.000e+00, 1.510e+02, 8.800e+01, 2.740e+03, 1.600e+01, 1.977e+03],\n",
              "       [8.000e+00, 3.500e+02, 1.750e+02, 4.100e+03, 1.300e+01, 1.973e+03],\n",
              "       [4.000e+00, 9.800e+01, 7.900e+01, 2.255e+03, 1.770e+01, 1.976e+03],\n",
              "       [8.000e+00, 4.550e+02, 2.250e+02, 4.951e+03, 1.100e+01, 1.973e+03],\n",
              "       [4.000e+00, 1.350e+02, 8.400e+01, 2.295e+03, 1.160e+01, 1.982e+03],\n",
              "       [4.000e+00, 1.400e+02, 7.500e+01, 2.542e+03, 1.700e+01, 1.974e+03],\n",
              "       [4.000e+00, 9.750e+01, 8.000e+01, 2.126e+03, 1.700e+01, 1.972e+03],\n",
              "       [4.000e+00, 1.400e+02, 8.900e+01, 2.755e+03, 1.580e+01, 1.977e+03],\n",
              "       [8.000e+00, 3.020e+02, 1.290e+02, 3.725e+03, 1.340e+01, 1.979e+03],\n",
              "       [4.000e+00, 1.050e+02, 7.400e+01, 2.190e+03, 1.420e+01, 1.981e+03],\n",
              "       [6.000e+00, 1.730e+02, 1.150e+02, 2.700e+03, 1.290e+01, 1.979e+03],\n",
              "       [6.000e+00, 2.310e+02, 1.050e+02, 3.380e+03, 1.580e+01, 1.978e+03],\n",
              "       [6.000e+00, 2.500e+02, 9.800e+01, 3.525e+03, 1.900e+01, 1.977e+03],\n",
              "       [8.000e+00, 3.500e+02, 1.650e+02, 4.274e+03, 1.200e+01, 1.972e+03],\n",
              "       [4.000e+00, 9.700e+01, 7.500e+01, 2.171e+03, 1.600e+01, 1.975e+03],\n",
              "       [6.000e+00, 2.500e+02, 1.100e+02, 3.645e+03, 1.620e+01, 1.976e+03],\n",
              "       [4.000e+00, 9.700e+01, 8.800e+01, 2.130e+03, 1.450e+01, 1.970e+03],\n",
              "       [4.000e+00, 1.560e+02, 1.050e+02, 2.800e+03, 1.440e+01, 1.980e+03],\n",
              "       [8.000e+00, 3.500e+02, 1.450e+02, 4.055e+03, 1.200e+01, 1.976e+03],\n",
              "       [8.000e+00, 3.510e+02, 1.580e+02, 4.363e+03, 1.300e+01, 1.973e+03],\n",
              "       [4.000e+00, 9.800e+01, 8.300e+01, 2.075e+03, 1.590e+01, 1.977e+03],\n",
              "       [4.000e+00, 9.700e+01, 9.200e+01, 2.288e+03, 1.700e+01, 1.972e+03],\n",
              "       [8.000e+00, 4.290e+02, 2.080e+02, 4.633e+03, 1.100e+01, 1.972e+03],\n",
              "       [8.000e+00, 3.510e+02, 1.530e+02, 4.129e+03, 1.300e+01, 1.972e+03],\n",
              "       [4.000e+00, 8.500e+01, 7.000e+01, 1.990e+03, 1.700e+01, 1.976e+03],\n",
              "       [4.000e+00, 9.100e+01, 6.700e+01, 1.965e+03, 1.500e+01, 1.982e+03],\n",
              "       [4.000e+00, 1.050e+02, 7.400e+01, 1.980e+03, 1.530e+01, 1.982e+03],\n",
              "       [4.000e+00, 9.100e+01, 6.700e+01, 1.965e+03, 1.570e+01, 1.982e+03],\n",
              "       [8.000e+00, 3.050e+02, 1.450e+02, 3.880e+03, 1.250e+01, 1.977e+03],\n",
              "       [6.000e+00, 1.730e+02, 1.100e+02, 2.725e+03, 1.260e+01, 1.981e+03],\n",
              "       [8.000e+00, 3.600e+02, 1.500e+02, 3.940e+03, 1.300e+01, 1.979e+03],\n",
              "       [4.000e+00, 9.800e+01, 7.600e+01, 2.144e+03, 1.470e+01, 1.980e+03],\n",
              "       [6.000e+00, 1.730e+02, 1.150e+02, 2.595e+03, 1.130e+01, 1.979e+03],\n",
              "       [6.000e+00, 2.000e+02, 8.800e+01, 3.060e+03, 1.710e+01, 1.981e+03],\n",
              "       [4.000e+00, 1.350e+02, 8.400e+01, 2.490e+03, 1.570e+01, 1.981e+03],\n",
              "       [8.000e+00, 3.180e+02, 1.500e+02, 4.237e+03, 1.450e+01, 1.973e+03],\n",
              "       [8.000e+00, 3.510e+02, 1.380e+02, 3.955e+03, 1.320e+01, 1.979e+03],\n",
              "       [4.000e+00, 1.220e+02, 8.600e+01, 2.395e+03, 1.600e+01, 1.972e+03],\n",
              "       [8.000e+00, 3.400e+02, 1.600e+02, 3.609e+03, 8.000e+00, 1.970e+03],\n",
              "       [4.000e+00, 1.210e+02, 8.000e+01, 2.670e+03, 1.500e+01, 1.979e+03],\n",
              "       [8.000e+00, 3.180e+02, 1.500e+02, 4.096e+03, 1.300e+01, 1.971e+03],\n",
              "       [4.000e+00, 9.000e+01, 7.500e+01, 2.125e+03, 1.450e+01, 1.974e+03],\n",
              "       [5.000e+00, 1.210e+02, 6.700e+01, 2.950e+03, 1.990e+01, 1.980e+03],\n",
              "       [8.000e+00, 3.180e+02, 1.450e+02, 4.140e+03, 1.370e+01, 1.977e+03],\n",
              "       [8.000e+00, 3.510e+02, 1.480e+02, 4.657e+03, 1.350e+01, 1.975e+03],\n",
              "       [4.000e+00, 1.210e+02, 1.130e+02, 2.234e+03, 1.250e+01, 1.970e+03]])"
            ]
          },
          "metadata": {},
          "execution_count": 47
        }
      ]
    },
    {
      "cell_type": "code",
      "source": [],
      "metadata": {
        "id": "G__mZHDVvxmE"
      },
      "execution_count": 47,
      "outputs": []
    },
    {
      "cell_type": "code",
      "source": [
        "# initializing the data\n",
        "data = [[6,2170,502,3164,4.2,2022], \n",
        "        [12,6498,730,3472,3.2,2022], \n",
        "        [8,3902,986,3020,2.5,2022], \n",
        "        [8,6162,670,3721,2.6,2022], \n",
        "        [4,122,181,2496,8.3,2022], \n",
        "        [6,3232,155,3232,11.5,1969], \n",
        "        [3,598,89,1550,10.1,2022], \n",
        "        [3,900,50,642,5.8,2022], \n",
        "        [4,1189,60,2355,28.1,1964], \n",
        "        [4,201,40,2265,32,1908], \n",
        "        ]\n",
        "  \n",
        "newDF = pd.DataFrame(data, columns=['Cylinder', 'Displacement','Horsepower', 'Weight','Acceleration', 'Model Year'])\n",
        "  \n",
        "# print dataframe.\n",
        "newDF"
      ],
      "metadata": {
        "colab": {
          "base_uri": "https://localhost:8080/",
          "height": 390
        },
        "id": "HhcpLfqHvxos",
        "outputId": "a7f6de9f-68d2-4c79-a3f2-dc2b67cf1229"
      },
      "execution_count": 48,
      "outputs": [
        {
          "output_type": "execute_result",
          "data": {
            "text/plain": [
              "   Cylinder  Displacement  Horsepower  Weight  Acceleration  Model Year\n",
              "0         6          2170         502    3164           4.2        2022\n",
              "1        12          6498         730    3472           3.2        2022\n",
              "2         8          3902         986    3020           2.5        2022\n",
              "3         8          6162         670    3721           2.6        2022\n",
              "4         4           122         181    2496           8.3        2022\n",
              "5         6          3232         155    3232          11.5        1969\n",
              "6         3           598          89    1550          10.1        2022\n",
              "7         3           900          50     642           5.8        2022\n",
              "8         4          1189          60    2355          28.1        1964\n",
              "9         4           201          40    2265          32.0        1908"
            ],
            "text/html": [
              "\n",
              "  <div id=\"df-3ab13020-c678-4252-89d4-214dcfb674f8\">\n",
              "    <div class=\"colab-df-container\">\n",
              "      <div>\n",
              "<style scoped>\n",
              "    .dataframe tbody tr th:only-of-type {\n",
              "        vertical-align: middle;\n",
              "    }\n",
              "\n",
              "    .dataframe tbody tr th {\n",
              "        vertical-align: top;\n",
              "    }\n",
              "\n",
              "    .dataframe thead th {\n",
              "        text-align: right;\n",
              "    }\n",
              "</style>\n",
              "<table border=\"1\" class=\"dataframe\">\n",
              "  <thead>\n",
              "    <tr style=\"text-align: right;\">\n",
              "      <th></th>\n",
              "      <th>Cylinder</th>\n",
              "      <th>Displacement</th>\n",
              "      <th>Horsepower</th>\n",
              "      <th>Weight</th>\n",
              "      <th>Acceleration</th>\n",
              "      <th>Model Year</th>\n",
              "    </tr>\n",
              "  </thead>\n",
              "  <tbody>\n",
              "    <tr>\n",
              "      <th>0</th>\n",
              "      <td>6</td>\n",
              "      <td>2170</td>\n",
              "      <td>502</td>\n",
              "      <td>3164</td>\n",
              "      <td>4.2</td>\n",
              "      <td>2022</td>\n",
              "    </tr>\n",
              "    <tr>\n",
              "      <th>1</th>\n",
              "      <td>12</td>\n",
              "      <td>6498</td>\n",
              "      <td>730</td>\n",
              "      <td>3472</td>\n",
              "      <td>3.2</td>\n",
              "      <td>2022</td>\n",
              "    </tr>\n",
              "    <tr>\n",
              "      <th>2</th>\n",
              "      <td>8</td>\n",
              "      <td>3902</td>\n",
              "      <td>986</td>\n",
              "      <td>3020</td>\n",
              "      <td>2.5</td>\n",
              "      <td>2022</td>\n",
              "    </tr>\n",
              "    <tr>\n",
              "      <th>3</th>\n",
              "      <td>8</td>\n",
              "      <td>6162</td>\n",
              "      <td>670</td>\n",
              "      <td>3721</td>\n",
              "      <td>2.6</td>\n",
              "      <td>2022</td>\n",
              "    </tr>\n",
              "    <tr>\n",
              "      <th>4</th>\n",
              "      <td>4</td>\n",
              "      <td>122</td>\n",
              "      <td>181</td>\n",
              "      <td>2496</td>\n",
              "      <td>8.3</td>\n",
              "      <td>2022</td>\n",
              "    </tr>\n",
              "    <tr>\n",
              "      <th>5</th>\n",
              "      <td>6</td>\n",
              "      <td>3232</td>\n",
              "      <td>155</td>\n",
              "      <td>3232</td>\n",
              "      <td>11.5</td>\n",
              "      <td>1969</td>\n",
              "    </tr>\n",
              "    <tr>\n",
              "      <th>6</th>\n",
              "      <td>3</td>\n",
              "      <td>598</td>\n",
              "      <td>89</td>\n",
              "      <td>1550</td>\n",
              "      <td>10.1</td>\n",
              "      <td>2022</td>\n",
              "    </tr>\n",
              "    <tr>\n",
              "      <th>7</th>\n",
              "      <td>3</td>\n",
              "      <td>900</td>\n",
              "      <td>50</td>\n",
              "      <td>642</td>\n",
              "      <td>5.8</td>\n",
              "      <td>2022</td>\n",
              "    </tr>\n",
              "    <tr>\n",
              "      <th>8</th>\n",
              "      <td>4</td>\n",
              "      <td>1189</td>\n",
              "      <td>60</td>\n",
              "      <td>2355</td>\n",
              "      <td>28.1</td>\n",
              "      <td>1964</td>\n",
              "    </tr>\n",
              "    <tr>\n",
              "      <th>9</th>\n",
              "      <td>4</td>\n",
              "      <td>201</td>\n",
              "      <td>40</td>\n",
              "      <td>2265</td>\n",
              "      <td>32.0</td>\n",
              "      <td>1908</td>\n",
              "    </tr>\n",
              "  </tbody>\n",
              "</table>\n",
              "</div>\n",
              "      <button class=\"colab-df-convert\" onclick=\"convertToInteractive('df-3ab13020-c678-4252-89d4-214dcfb674f8')\"\n",
              "              title=\"Convert this dataframe to an interactive table.\"\n",
              "              style=\"display:none;\">\n",
              "        \n",
              "  <svg xmlns=\"http://www.w3.org/2000/svg\" height=\"24px\"viewBox=\"0 0 24 24\"\n",
              "       width=\"24px\">\n",
              "    <path d=\"M0 0h24v24H0V0z\" fill=\"none\"/>\n",
              "    <path d=\"M18.56 5.44l.94 2.06.94-2.06 2.06-.94-2.06-.94-.94-2.06-.94 2.06-2.06.94zm-11 1L8.5 8.5l.94-2.06 2.06-.94-2.06-.94L8.5 2.5l-.94 2.06-2.06.94zm10 10l.94 2.06.94-2.06 2.06-.94-2.06-.94-.94-2.06-.94 2.06-2.06.94z\"/><path d=\"M17.41 7.96l-1.37-1.37c-.4-.4-.92-.59-1.43-.59-.52 0-1.04.2-1.43.59L10.3 9.45l-7.72 7.72c-.78.78-.78 2.05 0 2.83L4 21.41c.39.39.9.59 1.41.59.51 0 1.02-.2 1.41-.59l7.78-7.78 2.81-2.81c.8-.78.8-2.07 0-2.86zM5.41 20L4 18.59l7.72-7.72 1.47 1.35L5.41 20z\"/>\n",
              "  </svg>\n",
              "      </button>\n",
              "      \n",
              "  <style>\n",
              "    .colab-df-container {\n",
              "      display:flex;\n",
              "      flex-wrap:wrap;\n",
              "      gap: 12px;\n",
              "    }\n",
              "\n",
              "    .colab-df-convert {\n",
              "      background-color: #E8F0FE;\n",
              "      border: none;\n",
              "      border-radius: 50%;\n",
              "      cursor: pointer;\n",
              "      display: none;\n",
              "      fill: #1967D2;\n",
              "      height: 32px;\n",
              "      padding: 0 0 0 0;\n",
              "      width: 32px;\n",
              "    }\n",
              "\n",
              "    .colab-df-convert:hover {\n",
              "      background-color: #E2EBFA;\n",
              "      box-shadow: 0px 1px 2px rgba(60, 64, 67, 0.3), 0px 1px 3px 1px rgba(60, 64, 67, 0.15);\n",
              "      fill: #174EA6;\n",
              "    }\n",
              "\n",
              "    [theme=dark] .colab-df-convert {\n",
              "      background-color: #3B4455;\n",
              "      fill: #D2E3FC;\n",
              "    }\n",
              "\n",
              "    [theme=dark] .colab-df-convert:hover {\n",
              "      background-color: #434B5C;\n",
              "      box-shadow: 0px 1px 3px 1px rgba(0, 0, 0, 0.15);\n",
              "      filter: drop-shadow(0px 1px 2px rgba(0, 0, 0, 0.3));\n",
              "      fill: #FFFFFF;\n",
              "    }\n",
              "  </style>\n",
              "\n",
              "      <script>\n",
              "        const buttonEl =\n",
              "          document.querySelector('#df-3ab13020-c678-4252-89d4-214dcfb674f8 button.colab-df-convert');\n",
              "        buttonEl.style.display =\n",
              "          google.colab.kernel.accessAllowed ? 'block' : 'none';\n",
              "\n",
              "        async function convertToInteractive(key) {\n",
              "          const element = document.querySelector('#df-3ab13020-c678-4252-89d4-214dcfb674f8');\n",
              "          const dataTable =\n",
              "            await google.colab.kernel.invokeFunction('convertToInteractive',\n",
              "                                                     [key], {});\n",
              "          if (!dataTable) return;\n",
              "\n",
              "          const docLinkHtml = 'Like what you see? Visit the ' +\n",
              "            '<a target=\"_blank\" href=https://colab.research.google.com/notebooks/data_table.ipynb>data table notebook</a>'\n",
              "            + ' to learn more about interactive tables.';\n",
              "          element.innerHTML = '';\n",
              "          dataTable['output_type'] = 'display_data';\n",
              "          await google.colab.output.renderOutput(dataTable, element);\n",
              "          const docLink = document.createElement('div');\n",
              "          docLink.innerHTML = docLinkHtml;\n",
              "          element.appendChild(docLink);\n",
              "        }\n",
              "      </script>\n",
              "    </div>\n",
              "  </div>\n",
              "  "
            ]
          },
          "metadata": {},
          "execution_count": 48
        }
      ]
    },
    {
      "cell_type": "code",
      "source": [
        "model.predict(newDF)"
      ],
      "metadata": {
        "colab": {
          "base_uri": "https://localhost:8080/"
        },
        "id": "MQKxJOK0wFlT",
        "outputId": "12200d19-5a3c-4fdf-c983-bab3a2e7bcdd"
      },
      "execution_count": 49,
      "outputs": [
        {
          "output_type": "stream",
          "name": "stdout",
          "text": [
            "1/1 [==============================] - 0s 64ms/step\n"
          ]
        },
        {
          "output_type": "execute_result",
          "data": {
            "text/plain": [
              "array([[0.0071657 , 0.00636318, 0.00739182, ..., 0.00771692, 0.00913771,\n",
              "        0.00774939],\n",
              "       [0.01151229, 0.00467432, 0.00628825, ..., 0.00505048, 0.00671231,\n",
              "        0.00961767],\n",
              "       [0.00775696, 0.00656061, 0.00791507, ..., 0.00733536, 0.00852241,\n",
              "        0.00672013],\n",
              "       ...,\n",
              "       [0.00905145, 0.00653295, 0.00688296, ..., 0.00973148, 0.00834647,\n",
              "        0.00758633],\n",
              "       [0.00716571, 0.0063632 , 0.00739182, ..., 0.00771693, 0.0091377 ,\n",
              "        0.0077494 ],\n",
              "       [0.00775375, 0.00775075, 0.0077545 , ..., 0.00775314, 0.00774724,\n",
              "        0.00775078]], dtype=float32)"
            ]
          },
          "metadata": {},
          "execution_count": 49
        }
      ]
    }
  ]
}